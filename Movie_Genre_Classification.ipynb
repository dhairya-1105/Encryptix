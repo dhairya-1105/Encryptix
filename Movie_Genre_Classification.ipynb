{
  "nbformat": 4,
  "nbformat_minor": 0,
  "metadata": {
    "colab": {
      "provenance": [],
      "authorship_tag": "ABX9TyNFb7lDuPWiwPfltRicXcPA",
      "include_colab_link": true
    },
    "kernelspec": {
      "name": "python3",
      "display_name": "Python 3"
    },
    "language_info": {
      "name": "python"
    }
  },
  "cells": [
    {
      "cell_type": "markdown",
      "metadata": {
        "id": "view-in-github",
        "colab_type": "text"
      },
      "source": [
        "<a href=\"https://colab.research.google.com/github/dhairya-1105/Encryptix/blob/main/Movie_Genre_Classification.ipynb\" target=\"_parent\"><img src=\"https://colab.research.google.com/assets/colab-badge.svg\" alt=\"Open In Colab\"/></a>"
      ]
    },
    {
      "cell_type": "code",
      "execution_count": null,
      "metadata": {
        "id": "GlzzMjyBREdQ"
      },
      "outputs": [],
      "source": [
        "import numpy as np\n",
        "import pandas as pd\n",
        "import matplotlib.pyplot as plt\n",
        "import seaborn as sns"
      ]
    },
    {
      "cell_type": "code",
      "source": [
        "train_df=pd.read_csv('/content/train_data.txt',sep=':::',names=['movie_title', 'genre', 'desc'], engine='python')\n",
        "test_df=pd.read_csv('/content/test_data_solution.txt',sep=':::',names=['movie_title', 'genre', 'desc'], engine='python')"
      ],
      "metadata": {
        "id": "AGjUGX2BRLgc"
      },
      "execution_count": null,
      "outputs": []
    },
    {
      "cell_type": "code",
      "source": [
        "train_df.shape"
      ],
      "metadata": {
        "colab": {
          "base_uri": "https://localhost:8080/"
        },
        "id": "ssLsC2QqU2fp",
        "outputId": "93968c01-3b49-434d-ab69-cf918812916a"
      },
      "execution_count": null,
      "outputs": [
        {
          "output_type": "execute_result",
          "data": {
            "text/plain": [
              "(54214, 3)"
            ]
          },
          "metadata": {},
          "execution_count": 31
        }
      ]
    },
    {
      "cell_type": "code",
      "source": [
        "train_df.head()"
      ],
      "metadata": {
        "colab": {
          "base_uri": "https://localhost:8080/",
          "height": 206
        },
        "id": "mUZGo5yiTXbX",
        "outputId": "dd03ff5f-0bde-4445-b703-12d1ce588d39"
      },
      "execution_count": null,
      "outputs": [
        {
          "output_type": "execute_result",
          "data": {
            "text/plain": [
              "                          movie_title       genre  \\\n",
              "1       Oscar et la dame rose (2009)       drama    \n",
              "2                       Cupid (1997)    thriller    \n",
              "3   Young, Wild and Wonderful (1980)       adult    \n",
              "4              The Secret Sin (1915)       drama    \n",
              "5             The Unrecovered (2007)       drama    \n",
              "\n",
              "                                                desc  \n",
              "1   Listening in to a conversation between his do...  \n",
              "2   A brother and sister with a past incestuous r...  \n",
              "3   As the bus empties the students for their fie...  \n",
              "4   To help their unemployed father make ends mee...  \n",
              "5   The film's title refers not only to the un-re...  "
            ],
            "text/html": [
              "\n",
              "  <div id=\"df-98195b09-0b65-41e7-b2b5-6ed8c89d66e0\" class=\"colab-df-container\">\n",
              "    <div>\n",
              "<style scoped>\n",
              "    .dataframe tbody tr th:only-of-type {\n",
              "        vertical-align: middle;\n",
              "    }\n",
              "\n",
              "    .dataframe tbody tr th {\n",
              "        vertical-align: top;\n",
              "    }\n",
              "\n",
              "    .dataframe thead th {\n",
              "        text-align: right;\n",
              "    }\n",
              "</style>\n",
              "<table border=\"1\" class=\"dataframe\">\n",
              "  <thead>\n",
              "    <tr style=\"text-align: right;\">\n",
              "      <th></th>\n",
              "      <th>movie_title</th>\n",
              "      <th>genre</th>\n",
              "      <th>desc</th>\n",
              "    </tr>\n",
              "  </thead>\n",
              "  <tbody>\n",
              "    <tr>\n",
              "      <th>1</th>\n",
              "      <td>Oscar et la dame rose (2009)</td>\n",
              "      <td>drama</td>\n",
              "      <td>Listening in to a conversation between his do...</td>\n",
              "    </tr>\n",
              "    <tr>\n",
              "      <th>2</th>\n",
              "      <td>Cupid (1997)</td>\n",
              "      <td>thriller</td>\n",
              "      <td>A brother and sister with a past incestuous r...</td>\n",
              "    </tr>\n",
              "    <tr>\n",
              "      <th>3</th>\n",
              "      <td>Young, Wild and Wonderful (1980)</td>\n",
              "      <td>adult</td>\n",
              "      <td>As the bus empties the students for their fie...</td>\n",
              "    </tr>\n",
              "    <tr>\n",
              "      <th>4</th>\n",
              "      <td>The Secret Sin (1915)</td>\n",
              "      <td>drama</td>\n",
              "      <td>To help their unemployed father make ends mee...</td>\n",
              "    </tr>\n",
              "    <tr>\n",
              "      <th>5</th>\n",
              "      <td>The Unrecovered (2007)</td>\n",
              "      <td>drama</td>\n",
              "      <td>The film's title refers not only to the un-re...</td>\n",
              "    </tr>\n",
              "  </tbody>\n",
              "</table>\n",
              "</div>\n",
              "    <div class=\"colab-df-buttons\">\n",
              "\n",
              "  <div class=\"colab-df-container\">\n",
              "    <button class=\"colab-df-convert\" onclick=\"convertToInteractive('df-98195b09-0b65-41e7-b2b5-6ed8c89d66e0')\"\n",
              "            title=\"Convert this dataframe to an interactive table.\"\n",
              "            style=\"display:none;\">\n",
              "\n",
              "  <svg xmlns=\"http://www.w3.org/2000/svg\" height=\"24px\" viewBox=\"0 -960 960 960\">\n",
              "    <path d=\"M120-120v-720h720v720H120Zm60-500h600v-160H180v160Zm220 220h160v-160H400v160Zm0 220h160v-160H400v160ZM180-400h160v-160H180v160Zm440 0h160v-160H620v160ZM180-180h160v-160H180v160Zm440 0h160v-160H620v160Z\"/>\n",
              "  </svg>\n",
              "    </button>\n",
              "\n",
              "  <style>\n",
              "    .colab-df-container {\n",
              "      display:flex;\n",
              "      gap: 12px;\n",
              "    }\n",
              "\n",
              "    .colab-df-convert {\n",
              "      background-color: #E8F0FE;\n",
              "      border: none;\n",
              "      border-radius: 50%;\n",
              "      cursor: pointer;\n",
              "      display: none;\n",
              "      fill: #1967D2;\n",
              "      height: 32px;\n",
              "      padding: 0 0 0 0;\n",
              "      width: 32px;\n",
              "    }\n",
              "\n",
              "    .colab-df-convert:hover {\n",
              "      background-color: #E2EBFA;\n",
              "      box-shadow: 0px 1px 2px rgba(60, 64, 67, 0.3), 0px 1px 3px 1px rgba(60, 64, 67, 0.15);\n",
              "      fill: #174EA6;\n",
              "    }\n",
              "\n",
              "    .colab-df-buttons div {\n",
              "      margin-bottom: 4px;\n",
              "    }\n",
              "\n",
              "    [theme=dark] .colab-df-convert {\n",
              "      background-color: #3B4455;\n",
              "      fill: #D2E3FC;\n",
              "    }\n",
              "\n",
              "    [theme=dark] .colab-df-convert:hover {\n",
              "      background-color: #434B5C;\n",
              "      box-shadow: 0px 1px 3px 1px rgba(0, 0, 0, 0.15);\n",
              "      filter: drop-shadow(0px 1px 2px rgba(0, 0, 0, 0.3));\n",
              "      fill: #FFFFFF;\n",
              "    }\n",
              "  </style>\n",
              "\n",
              "    <script>\n",
              "      const buttonEl =\n",
              "        document.querySelector('#df-98195b09-0b65-41e7-b2b5-6ed8c89d66e0 button.colab-df-convert');\n",
              "      buttonEl.style.display =\n",
              "        google.colab.kernel.accessAllowed ? 'block' : 'none';\n",
              "\n",
              "      async function convertToInteractive(key) {\n",
              "        const element = document.querySelector('#df-98195b09-0b65-41e7-b2b5-6ed8c89d66e0');\n",
              "        const dataTable =\n",
              "          await google.colab.kernel.invokeFunction('convertToInteractive',\n",
              "                                                    [key], {});\n",
              "        if (!dataTable) return;\n",
              "\n",
              "        const docLinkHtml = 'Like what you see? Visit the ' +\n",
              "          '<a target=\"_blank\" href=https://colab.research.google.com/notebooks/data_table.ipynb>data table notebook</a>'\n",
              "          + ' to learn more about interactive tables.';\n",
              "        element.innerHTML = '';\n",
              "        dataTable['output_type'] = 'display_data';\n",
              "        await google.colab.output.renderOutput(dataTable, element);\n",
              "        const docLink = document.createElement('div');\n",
              "        docLink.innerHTML = docLinkHtml;\n",
              "        element.appendChild(docLink);\n",
              "      }\n",
              "    </script>\n",
              "  </div>\n",
              "\n",
              "\n",
              "<div id=\"df-521fe646-4a23-4bd6-b621-29a8a6afd3df\">\n",
              "  <button class=\"colab-df-quickchart\" onclick=\"quickchart('df-521fe646-4a23-4bd6-b621-29a8a6afd3df')\"\n",
              "            title=\"Suggest charts\"\n",
              "            style=\"display:none;\">\n",
              "\n",
              "<svg xmlns=\"http://www.w3.org/2000/svg\" height=\"24px\"viewBox=\"0 0 24 24\"\n",
              "     width=\"24px\">\n",
              "    <g>\n",
              "        <path d=\"M19 3H5c-1.1 0-2 .9-2 2v14c0 1.1.9 2 2 2h14c1.1 0 2-.9 2-2V5c0-1.1-.9-2-2-2zM9 17H7v-7h2v7zm4 0h-2V7h2v10zm4 0h-2v-4h2v4z\"/>\n",
              "    </g>\n",
              "</svg>\n",
              "  </button>\n",
              "\n",
              "<style>\n",
              "  .colab-df-quickchart {\n",
              "      --bg-color: #E8F0FE;\n",
              "      --fill-color: #1967D2;\n",
              "      --hover-bg-color: #E2EBFA;\n",
              "      --hover-fill-color: #174EA6;\n",
              "      --disabled-fill-color: #AAA;\n",
              "      --disabled-bg-color: #DDD;\n",
              "  }\n",
              "\n",
              "  [theme=dark] .colab-df-quickchart {\n",
              "      --bg-color: #3B4455;\n",
              "      --fill-color: #D2E3FC;\n",
              "      --hover-bg-color: #434B5C;\n",
              "      --hover-fill-color: #FFFFFF;\n",
              "      --disabled-bg-color: #3B4455;\n",
              "      --disabled-fill-color: #666;\n",
              "  }\n",
              "\n",
              "  .colab-df-quickchart {\n",
              "    background-color: var(--bg-color);\n",
              "    border: none;\n",
              "    border-radius: 50%;\n",
              "    cursor: pointer;\n",
              "    display: none;\n",
              "    fill: var(--fill-color);\n",
              "    height: 32px;\n",
              "    padding: 0;\n",
              "    width: 32px;\n",
              "  }\n",
              "\n",
              "  .colab-df-quickchart:hover {\n",
              "    background-color: var(--hover-bg-color);\n",
              "    box-shadow: 0 1px 2px rgba(60, 64, 67, 0.3), 0 1px 3px 1px rgba(60, 64, 67, 0.15);\n",
              "    fill: var(--button-hover-fill-color);\n",
              "  }\n",
              "\n",
              "  .colab-df-quickchart-complete:disabled,\n",
              "  .colab-df-quickchart-complete:disabled:hover {\n",
              "    background-color: var(--disabled-bg-color);\n",
              "    fill: var(--disabled-fill-color);\n",
              "    box-shadow: none;\n",
              "  }\n",
              "\n",
              "  .colab-df-spinner {\n",
              "    border: 2px solid var(--fill-color);\n",
              "    border-color: transparent;\n",
              "    border-bottom-color: var(--fill-color);\n",
              "    animation:\n",
              "      spin 1s steps(1) infinite;\n",
              "  }\n",
              "\n",
              "  @keyframes spin {\n",
              "    0% {\n",
              "      border-color: transparent;\n",
              "      border-bottom-color: var(--fill-color);\n",
              "      border-left-color: var(--fill-color);\n",
              "    }\n",
              "    20% {\n",
              "      border-color: transparent;\n",
              "      border-left-color: var(--fill-color);\n",
              "      border-top-color: var(--fill-color);\n",
              "    }\n",
              "    30% {\n",
              "      border-color: transparent;\n",
              "      border-left-color: var(--fill-color);\n",
              "      border-top-color: var(--fill-color);\n",
              "      border-right-color: var(--fill-color);\n",
              "    }\n",
              "    40% {\n",
              "      border-color: transparent;\n",
              "      border-right-color: var(--fill-color);\n",
              "      border-top-color: var(--fill-color);\n",
              "    }\n",
              "    60% {\n",
              "      border-color: transparent;\n",
              "      border-right-color: var(--fill-color);\n",
              "    }\n",
              "    80% {\n",
              "      border-color: transparent;\n",
              "      border-right-color: var(--fill-color);\n",
              "      border-bottom-color: var(--fill-color);\n",
              "    }\n",
              "    90% {\n",
              "      border-color: transparent;\n",
              "      border-bottom-color: var(--fill-color);\n",
              "    }\n",
              "  }\n",
              "</style>\n",
              "\n",
              "  <script>\n",
              "    async function quickchart(key) {\n",
              "      const quickchartButtonEl =\n",
              "        document.querySelector('#' + key + ' button');\n",
              "      quickchartButtonEl.disabled = true;  // To prevent multiple clicks.\n",
              "      quickchartButtonEl.classList.add('colab-df-spinner');\n",
              "      try {\n",
              "        const charts = await google.colab.kernel.invokeFunction(\n",
              "            'suggestCharts', [key], {});\n",
              "      } catch (error) {\n",
              "        console.error('Error during call to suggestCharts:', error);\n",
              "      }\n",
              "      quickchartButtonEl.classList.remove('colab-df-spinner');\n",
              "      quickchartButtonEl.classList.add('colab-df-quickchart-complete');\n",
              "    }\n",
              "    (() => {\n",
              "      let quickchartButtonEl =\n",
              "        document.querySelector('#df-521fe646-4a23-4bd6-b621-29a8a6afd3df button');\n",
              "      quickchartButtonEl.style.display =\n",
              "        google.colab.kernel.accessAllowed ? 'block' : 'none';\n",
              "    })();\n",
              "  </script>\n",
              "</div>\n",
              "\n",
              "    </div>\n",
              "  </div>\n"
            ],
            "application/vnd.google.colaboratory.intrinsic+json": {
              "type": "dataframe",
              "variable_name": "train_df",
              "summary": "{\n  \"name\": \"train_df\",\n  \"rows\": 54214,\n  \"fields\": [\n    {\n      \"column\": \"movie_title\",\n      \"properties\": {\n        \"dtype\": \"string\",\n        \"num_unique_values\": 54214,\n        \"samples\": [\n          \" Sisterhood (2008) \",\n          \" Idylle (1983) \",\n          \" The Lost Skeleton Returns Again (2009) \"\n        ],\n        \"semantic_type\": \"\",\n        \"description\": \"\"\n      }\n    },\n    {\n      \"column\": \"genre\",\n      \"properties\": {\n        \"dtype\": \"category\",\n        \"num_unique_values\": 27,\n        \"samples\": [\n          \" sport \",\n          \" sci-fi \",\n          \" animation \"\n        ],\n        \"semantic_type\": \"\",\n        \"description\": \"\"\n      }\n    },\n    {\n      \"column\": \"desc\",\n      \"properties\": {\n        \"dtype\": \"string\",\n        \"num_unique_values\": 54086,\n        \"samples\": [\n          \" When a celestial event causes a depressed call centre employee to gain amazing abilities, he is told that he is actually the reincarnation of a powerful warrior. With his new-found ally, he must find out who he must become before the forces who seek his destruction find him.\",\n          \" Set against a lush Western Indian landscape during the monsoon season, CHITRAKUT delicately sets the tone, interweaving the lives of Saloni, Shaan, Debu, Alisha and Kim - all converging at different intersections of life, discovering the meaning of love, encapsulating fractured feelings, consumption of romantic longing and fleeting moments.\",\n          \" It is just after midnight. A family is fast asleep on a vast sofa in\\u00a0front of a television. They are woken abruptly by the sound track of the film they are watching, and find themselves being quite literally\\u00a0moved by the exhilarating sounds and images emanating from the\\u00a0screen.\"\n        ],\n        \"semantic_type\": \"\",\n        \"description\": \"\"\n      }\n    }\n  ]\n}"
            }
          },
          "metadata": {},
          "execution_count": 32
        }
      ]
    },
    {
      "cell_type": "code",
      "source": [
        "# train_df['genre'].unique()\n",
        "train_df['genre'].value_counts()"
      ],
      "metadata": {
        "colab": {
          "base_uri": "https://localhost:8080/"
        },
        "id": "hNKawXXsUF5M",
        "outputId": "46f79497-102a-40bb-89f3-dbe978846066"
      },
      "execution_count": null,
      "outputs": [
        {
          "output_type": "execute_result",
          "data": {
            "text/plain": [
              "genre\n",
              " drama           13613\n",
              " documentary     13096\n",
              " comedy           7447\n",
              " short            5073\n",
              " horror           2204\n",
              " thriller         1591\n",
              " action           1315\n",
              " western          1032\n",
              " reality-tv        884\n",
              " family            784\n",
              " adventure         775\n",
              " music             731\n",
              " romance           672\n",
              " sci-fi            647\n",
              " adult             590\n",
              " crime             505\n",
              " animation         498\n",
              " sport             432\n",
              " talk-show         391\n",
              " fantasy           323\n",
              " mystery           319\n",
              " musical           277\n",
              " biography         265\n",
              " history           243\n",
              " game-show         194\n",
              " news              181\n",
              " war               132\n",
              "Name: count, dtype: int64"
            ]
          },
          "metadata": {},
          "execution_count": 33
        }
      ]
    },
    {
      "cell_type": "code",
      "source": [
        "train_df.isnull().sum()"
      ],
      "metadata": {
        "colab": {
          "base_uri": "https://localhost:8080/"
        },
        "id": "QXSiOIpJY_Bw",
        "outputId": "643e5e42-3e13-4d69-8419-7e36f90e7c01"
      },
      "execution_count": null,
      "outputs": [
        {
          "output_type": "execute_result",
          "data": {
            "text/plain": [
              "movie_title    0\n",
              "genre          0\n",
              "desc           0\n",
              "dtype: int64"
            ]
          },
          "metadata": {},
          "execution_count": 34
        }
      ]
    },
    {
      "cell_type": "code",
      "source": [
        "test_df.isnull().sum()"
      ],
      "metadata": {
        "colab": {
          "base_uri": "https://localhost:8080/"
        },
        "id": "IYvhGKy1ZBr3",
        "outputId": "364c69ae-4b6e-4a4b-8a53-bb7b13647b2c"
      },
      "execution_count": null,
      "outputs": [
        {
          "output_type": "execute_result",
          "data": {
            "text/plain": [
              "movie_title    0\n",
              "genre          0\n",
              "desc           0\n",
              "dtype: int64"
            ]
          },
          "metadata": {},
          "execution_count": 35
        }
      ]
    },
    {
      "cell_type": "code",
      "source": [
        "sns.countplot(y='genre',data=train_df)\n",
        "plt.show()"
      ],
      "metadata": {
        "colab": {
          "base_uri": "https://localhost:8080/",
          "height": 449
        },
        "id": "FZ6HdVAXVhyw",
        "outputId": "7e0ae14a-759a-41ea-a339-6b06d709cb45"
      },
      "execution_count": null,
      "outputs": [
        {
          "output_type": "display_data",
          "data": {
            "text/plain": [
              "<Figure size 640x480 with 1 Axes>"
            ],
            "image/png": "[encoded data removed]"
          },
          "metadata": {}
        }
      ]
    },
    {
      "cell_type": "code",
      "source": [
        "from sklearn.preprocessing import LabelEncoder\n",
        "le=LabelEncoder()\n",
        "train_df['genre']=le.fit_transform(train_df['genre'])\n",
        "test_df['genre']=le.fit_transform(test_df['genre'])"
      ],
      "metadata": {
        "id": "NaA5M3zfvGmf"
      },
      "execution_count": null,
      "outputs": []
    },
    {
      "cell_type": "code",
      "source": [
        "import re\n",
        "import nltk\n",
        "import string\n",
        "from nltk.corpus import stopwords\n",
        "from nltk.stem import LancasterStemmer\n",
        "from nltk.stem import WordNetLemmatizer\n",
        "from sklearn.feature_extraction.text import TfidfVectorizer\n",
        "nltk.download('stopwords')\n",
        "nltk.download('wordnet')\n",
        "nltk.download('punkt')"
      ],
      "metadata": {
        "colab": {
          "base_uri": "https://localhost:8080/"
        },
        "id": "Heu_3AipWFyj",
        "outputId": "4fa1a356-3639-41af-9a4a-409ec486577f"
      },
      "execution_count": null,
      "outputs": [
        {
          "output_type": "stream",
          "name": "stderr",
          "text": [
            "[nltk_data] Downloading package stopwords to /root/nltk_data...\n",
            "[nltk_data]   Package stopwords is already up-to-date!\n",
            "[nltk_data] Downloading package wordnet to /root/nltk_data...\n",
            "[nltk_data]   Package wordnet is already up-to-date!\n",
            "[nltk_data] Downloading package punkt to /root/nltk_data...\n",
            "[nltk_data]   Package punkt is already up-to-date!\n"
          ]
        },
        {
          "output_type": "execute_result",
          "data": {
            "text/plain": [
              "True"
            ]
          },
          "metadata": {},
          "execution_count": 38
        }
      ]
    },
    {
      "cell_type": "code",
      "source": [
        "stemmer = LancasterStemmer()\n",
        "stop_words = set(stopwords.words('english'))"
      ],
      "metadata": {
        "id": "1iQ3jJVhWwBg"
      },
      "execution_count": null,
      "outputs": []
    },
    {
      "cell_type": "code",
      "source": [
        "def remove_stopwords(text):\n",
        "  text=text.lower()\n",
        "  text = re.sub(r\"\\'s\", \" is\", text)\n",
        "  text = re.sub(r\"\\'ve\", \" have\", text)\n",
        "  text = re.sub(r\"n\\'t\", \" not\", text)\n",
        "  text = re.sub(r\"\\'re\", \" are\", text)\n",
        "  text = re.sub(r\"\\'d\", \" would\", text)\n",
        "  text = re.sub(r\"\\'ll\", \" will\", text)\n",
        "  # Remove punctuation and special characters\n",
        "  text = re.sub(r\"[^a-zA-Z\\s]\", '', text)\n",
        "  words = nltk.word_tokenize(text)\n",
        "  stopwords = nltk.corpus.stopwords.words('english')\n",
        "  lemmatizer = WordNetLemmatizer()\n",
        "  words = [lemmatizer.lemmatize(word) for word in words]\n",
        "  text = \" \".join([i for i in words if i not in stopwords and len(i) > 2 and i.isalpha()])\n",
        "  return text"
      ],
      "metadata": {
        "id": "0EwMt4u1XNhr"
      },
      "execution_count": null,
      "outputs": []
    },
    {
      "cell_type": "code",
      "source": [
        "train_df['new_desc']=train_df['desc'].apply(remove_stopwords)\n",
        "test_df['new_desc']=test_df['desc'].apply(remove_stopwords)"
      ],
      "metadata": {
        "id": "Jg4myyFwXGk3"
      },
      "execution_count": null,
      "outputs": []
    },
    {
      "cell_type": "code",
      "source": [
        "from sklearn.feature_extraction.text import TfidfVectorizer\n",
        "from sklearn.model_selection import train_test_split\n",
        "from sklearn.naive_bayes import MultinomialNB\n",
        "from sklearn.metrics import accuracy_score, classification_report\n",
        "from sklearn.linear_model import LogisticRegression\n",
        "from sklearn.svm import SVC"
      ],
      "metadata": {
        "id": "QOpdldBVYe-A"
      },
      "execution_count": null,
      "outputs": []
    },
    {
      "cell_type": "code",
      "source": [
        "#First trying TF-IDF vectorizer\n",
        "tfidf = TfidfVectorizer(max_features=10000, ngram_range=(1, 3))\n",
        "X_train=tfidf.fit_transform(train_df['new_desc'])\n",
        "x_test=tfidf.transform(test_df['new_desc'])"
      ],
      "metadata": {
        "id": "laPWiezZY4z5"
      },
      "execution_count": null,
      "outputs": []
    },
    {
      "cell_type": "code",
      "source": [
        "X_train,X_val,y_train,y_val=train_test_split(X_train,train_df['genre'],test_size=0.2,random_state=25)"
      ],
      "metadata": {
        "id": "aysFsN90Z-Ah"
      },
      "execution_count": null,
      "outputs": []
    },
    {
      "cell_type": "code",
      "source": [
        "model1=MultinomialNB()\n",
        "model1.fit(X_train,y_train)\n",
        "y_1=model1.predict(X_val)\n",
        "accuracy=accuracy_score(y_val,y_1)\n",
        "print(accuracy)\n",
        "print(classification_report(y_val,y_1))"
      ],
      "metadata": {
        "colab": {
          "base_uri": "https://localhost:8080/"
        },
        "id": "1kzRJBCuaXFw",
        "outputId": "09c4330f-49ac-4cea-b0aa-af23907420da"
      },
      "execution_count": null,
      "outputs": [
        {
          "output_type": "stream",
          "name": "stdout",
          "text": [
            "0.5155399797104122\n",
            "              precision    recall  f1-score   support\n",
            "\n",
            "           0       0.54      0.03      0.05       278\n",
            "           1       0.60      0.03      0.05       110\n",
            "           2       0.75      0.06      0.11       145\n",
            "           3       0.00      0.00      0.00       115\n",
            "           4       0.00      0.00      0.00        66\n",
            "           5       0.53      0.43      0.47      1519\n",
            "           6       0.00      0.00      0.00       106\n",
            "           7       0.56      0.88      0.69      2597\n",
            "           8       0.45      0.84      0.59      2743\n",
            "           9       0.00      0.00      0.00       151\n",
            "          10       0.00      0.00      0.00        61\n",
            "          11       1.00      0.03      0.06        32\n",
            "          12       0.00      0.00      0.00        48\n",
            "          13       0.71      0.28      0.40       406\n",
            "          14       1.00      0.01      0.03       140\n",
            "          15       0.00      0.00      0.00        56\n",
            "          16       0.00      0.00      0.00        67\n",
            "          17       0.00      0.00      0.00        39\n",
            "          18       0.00      0.00      0.00       164\n",
            "          19       0.00      0.00      0.00       146\n",
            "          20       0.00      0.00      0.00       131\n",
            "          21       0.65      0.09      0.16      1007\n",
            "          22       1.00      0.06      0.11        88\n",
            "          23       0.00      0.00      0.00        72\n",
            "          24       1.00      0.01      0.03       304\n",
            "          25       0.00      0.00      0.00        28\n",
            "          26       1.00      0.50      0.67       224\n",
            "\n",
            "    accuracy                           0.52     10843\n",
            "   macro avg       0.36      0.12      0.13     10843\n",
            "weighted avg       0.51      0.52      0.43     10843\n",
            "\n"
          ]
        },
        {
          "output_type": "stream",
          "name": "stderr",
          "text": [
            "/usr/local/lib/python3.10/dist-packages/sklearn/metrics/_classification.py:1344: UndefinedMetricWarning: Precision and F-score are ill-defined and being set to 0.0 in labels with no predicted samples. Use `zero_division` parameter to control this behavior.\n",
            "  _warn_prf(average, modifier, msg_start, len(result))\n",
            "/usr/local/lib/python3.10/dist-packages/sklearn/metrics/_classification.py:1344: UndefinedMetricWarning: Precision and F-score are ill-defined and being set to 0.0 in labels with no predicted samples. Use `zero_division` parameter to control this behavior.\n",
            "  _warn_prf(average, modifier, msg_start, len(result))\n",
            "/usr/local/lib/python3.10/dist-packages/sklearn/metrics/_classification.py:1344: UndefinedMetricWarning: Precision and F-score are ill-defined and being set to 0.0 in labels with no predicted samples. Use `zero_division` parameter to control this behavior.\n",
            "  _warn_prf(average, modifier, msg_start, len(result))\n"
          ]
        }
      ]
    },
    {
      "cell_type": "code",
      "source": [
        "model2=LogisticRegression(max_iter=1000)\n",
        "model2.fit(X_train,y_train)\n",
        "y_2=model2.predict(X_val)\n",
        "accuracy=accuracy_score(y_val,y_2)\n",
        "print(accuracy)\n",
        "print(classification_report(y_val,y_2))"
      ],
      "metadata": {
        "colab": {
          "base_uri": "https://localhost:8080/"
        },
        "id": "57vCv_1pa0lX",
        "outputId": "63584453-cbab-4bcb-8170-d6ea1e52a5ef"
      },
      "execution_count": null,
      "outputs": [
        {
          "output_type": "stream",
          "name": "stdout",
          "text": [
            "0.5853546066586738\n",
            "              precision    recall  f1-score   support\n",
            "\n",
            "           0       0.52      0.22      0.31       278\n",
            "           1       0.78      0.29      0.42       110\n",
            "           2       0.72      0.19      0.30       145\n",
            "           3       0.57      0.03      0.07       115\n",
            "           4       0.00      0.00      0.00        66\n",
            "           5       0.53      0.59      0.56      1519\n",
            "           6       0.22      0.02      0.03       106\n",
            "           7       0.67      0.85      0.75      2597\n",
            "           8       0.54      0.79      0.65      2743\n",
            "           9       0.50      0.09      0.16       151\n",
            "          10       0.00      0.00      0.00        61\n",
            "          11       0.79      0.34      0.48        32\n",
            "          12       0.00      0.00      0.00        48\n",
            "          13       0.65      0.59      0.62       406\n",
            "          14       0.70      0.46      0.56       140\n",
            "          15       0.75      0.05      0.10        56\n",
            "          16       0.00      0.00      0.00        67\n",
            "          17       1.00      0.03      0.05        39\n",
            "          18       0.50      0.20      0.28       164\n",
            "          19       0.20      0.01      0.01       146\n",
            "          20       0.66      0.30      0.41       131\n",
            "          21       0.45      0.30      0.36      1007\n",
            "          22       0.67      0.23      0.34        88\n",
            "          23       0.67      0.14      0.23        72\n",
            "          24       0.40      0.13      0.20       304\n",
            "          25       1.00      0.04      0.07        28\n",
            "          26       0.93      0.73      0.82       224\n",
            "\n",
            "    accuracy                           0.59     10843\n",
            "   macro avg       0.53      0.25      0.29     10843\n",
            "weighted avg       0.56      0.59      0.54     10843\n",
            "\n"
          ]
        },
        {
          "output_type": "stream",
          "name": "stderr",
          "text": [
            "/usr/local/lib/python3.10/dist-packages/sklearn/metrics/_classification.py:1344: UndefinedMetricWarning: Precision and F-score are ill-defined and being set to 0.0 in labels with no predicted samples. Use `zero_division` parameter to control this behavior.\n",
            "  _warn_prf(average, modifier, msg_start, len(result))\n",
            "/usr/local/lib/python3.10/dist-packages/sklearn/metrics/_classification.py:1344: UndefinedMetricWarning: Precision and F-score are ill-defined and being set to 0.0 in labels with no predicted samples. Use `zero_division` parameter to control this behavior.\n",
            "  _warn_prf(average, modifier, msg_start, len(result))\n",
            "/usr/local/lib/python3.10/dist-packages/sklearn/metrics/_classification.py:1344: UndefinedMetricWarning: Precision and F-score are ill-defined and being set to 0.0 in labels with no predicted samples. Use `zero_division` parameter to control this behavior.\n",
            "  _warn_prf(average, modifier, msg_start, len(result))\n"
          ]
        }
      ]
    },
    {
      "cell_type": "code",
      "source": [
        "# #Improving through gridsearch crossvalidation\n",
        "\n",
        "# from sklearn.model_selection import GridSearchCV\n",
        "# param_grid = {'C': [0.001, 0.01, 0.1, 1, 10, 100]}\n",
        "# grid_search = GridSearchCV(model2, param_grid, cv=5, scoring='accuracy')\n",
        "# grid_search.fit(X_train, y_train)\n",
        "# print(\"Best hyperparameters:\", grid_search.best_params_)"
      ],
      "metadata": {
        "id": "lHOA8yceboGG"
      },
      "execution_count": null,
      "outputs": []
    },
    {
      "cell_type": "code",
      "source": [
        "#Try SVC, then use word2vec and try multinomialNB,LogisticReg,S"
      ],
      "metadata": {
        "id": "bsszS2V8wR4E"
      },
      "execution_count": null,
      "outputs": []
    },
    {
      "cell_type": "code",
      "source": [
        "# best_C = grid_search.best_params_['C']\n",
        "# model2_new=LogisticRegression(C=best_C,max_iter=1000)\n",
        "# model2_new.fit(X_train,y_train)\n",
        "# y_2_new=model2_new.predict(X_val)\n",
        "# accuracy=accuracy_score(y_val,y_2_new)\n",
        "# print(accuracy)\n",
        "# print(classification_report(y_val,y_2_new))"
      ],
      "metadata": {
        "id": "icBz7-2zb_DR"
      },
      "execution_count": null,
      "outputs": []
    },
    {
      "cell_type": "code",
      "source": [
        "# model3=SVC()\n",
        "# model3.fit(X_train,y_train)\n",
        "# y_3=model3.predict(X_val)\n",
        "# accuracy=accuracy_score(y_val,y_3)\n",
        "# print(accuracy)\n",
        "# print(classification_report(y_val,y_3))"
      ],
      "metadata": {
        "id": "qOAdQY5E_ZN8"
      },
      "execution_count": null,
      "outputs": []
    },
    {
      "cell_type": "code",
      "source": [
        "#Trying word2vec\n",
        "\n",
        "import gensim\n",
        "from gensim.models import Word2Vec\n",
        "from gensim.utils import simple_preprocess\n",
        "\n",
        "processed_desc=[simple_preprocess(desc) for desc in train_df['new_desc'] ]\n",
        "model = Word2Vec(processed_desc, vector_size=100, window=5, min_count=1, workers=4)\n"
      ],
      "metadata": {
        "id": "MH8JVNRhGFnF"
      },
      "execution_count": null,
      "outputs": []
    },
    {
      "cell_type": "code",
      "source": [
        "def description_to_vectors(description, model):\n",
        "    vectors = []\n",
        "    for word in description:\n",
        "        if word in model.wv:\n",
        "            vectors.append(model.wv[word])\n",
        "    if vectors:\n",
        "        return np.mean(vectors, axis=0)\n",
        "    else:\n",
        "        return np.zeros(model.vector_size)\n",
        "\n",
        "X = np.array([description_to_vectors(desc, model) for desc in processed_desc])\n",
        "y=train_df['genre']\n",
        "\n",
        "# Split the data into training and testing sets\n",
        "X_train, X_test, y_train, y_test = train_test_split(X, y, test_size=0.2, random_state=42)\n"
      ],
      "metadata": {
        "id": "7YbXjsNsH6l8"
      },
      "execution_count": null,
      "outputs": []
    },
    {
      "cell_type": "code",
      "source": [
        "# print(y_train)"
      ],
      "metadata": {
        "id": "jYvBsluaKwew"
      },
      "execution_count": null,
      "outputs": []
    },
    {
      "cell_type": "code",
      "source": [
        "# model3=LogisticRegression(max_iter=1000)\n",
        "# model3.fit(X_train,y_train)\n",
        "# y1_w=model3.predict(X_test)\n",
        "# accuracy=accuracy_score(y1_w,y_test)\n",
        "# print(accuracy)\n",
        "# print(classification_report(y1_w,y_test))"
      ],
      "metadata": {
        "id": "zLkqQIi6J3IP"
      },
      "execution_count": null,
      "outputs": []
    },
    {
      "cell_type": "code",
      "source": [
        "y_test=test_df['genre']\n",
        "y_final=model2.predict(x_test)\n",
        "accuracy=accuracy_score(y_test,y_final)\n",
        "print(accuracy)\n",
        "print(classification_report(y_test,y_final))"
      ],
      "metadata": {
        "id": "M-GQ9RQz5V76",
        "colab": {
          "base_uri": "https://localhost:8080/"
        },
        "outputId": "59a3b004-9458-44a4-b078-eeb2e0a7e0b5"
      },
      "execution_count": null,
      "outputs": [
        {
          "output_type": "stream",
          "name": "stdout",
          "text": [
            "0.5841512915129151\n",
            "              precision    recall  f1-score   support\n",
            "\n",
            "           0       0.50      0.27      0.35      1314\n",
            "           1       0.63      0.22      0.33       590\n",
            "           2       0.66      0.17      0.27       775\n",
            "           3       0.47      0.04      0.08       498\n",
            "           4       0.00      0.00      0.00       264\n",
            "           5       0.53      0.58      0.56      7446\n",
            "           6       0.39      0.03      0.06       505\n",
            "           7       0.66      0.85      0.75     13096\n",
            "           8       0.54      0.79      0.64     13612\n",
            "           9       0.52      0.08      0.14       783\n",
            "          10       0.60      0.04      0.07       322\n",
            "          11       0.88      0.52      0.66       193\n",
            "          12       0.00      0.00      0.00       243\n",
            "          13       0.66      0.57      0.61      2204\n",
            "          14       0.65      0.40      0.50       731\n",
            "          15       0.18      0.01      0.01       276\n",
            "          16       0.00      0.00      0.00       318\n",
            "          17       0.75      0.05      0.09       181\n",
            "          18       0.53      0.17      0.26       883\n",
            "          19       0.34      0.01      0.03       672\n",
            "          20       0.58      0.23      0.33       646\n",
            "          21       0.48      0.32      0.39      5072\n",
            "          22       0.69      0.22      0.33       431\n",
            "          23       0.64      0.18      0.29       391\n",
            "          24       0.38      0.12      0.18      1590\n",
            "          25       0.00      0.00      0.00       132\n",
            "          26       0.91      0.72      0.80      1032\n",
            "\n",
            "    accuracy                           0.58     54200\n",
            "   macro avg       0.49      0.24      0.29     54200\n",
            "weighted avg       0.56      0.58      0.54     54200\n",
            "\n"
          ]
        },
        {
          "output_type": "stream",
          "name": "stderr",
          "text": [
            "/usr/local/lib/python3.10/dist-packages/sklearn/metrics/_classification.py:1344: UndefinedMetricWarning: Precision and F-score are ill-defined and being set to 0.0 in labels with no predicted samples. Use `zero_division` parameter to control this behavior.\n",
            "  _warn_prf(average, modifier, msg_start, len(result))\n",
            "/usr/local/lib/python3.10/dist-packages/sklearn/metrics/_classification.py:1344: UndefinedMetricWarning: Precision and F-score are ill-defined and being set to 0.0 in labels with no predicted samples. Use `zero_division` parameter to control this behavior.\n",
            "  _warn_prf(average, modifier, msg_start, len(result))\n",
            "/usr/local/lib/python3.10/dist-packages/sklearn/metrics/_classification.py:1344: UndefinedMetricWarning: Precision and F-score are ill-defined and being set to 0.0 in labels with no predicted samples. Use `zero_division` parameter to control this behavior.\n",
            "  _warn_prf(average, modifier, msg_start, len(result))\n"
          ]
        }
      ]
    }
  ]
}